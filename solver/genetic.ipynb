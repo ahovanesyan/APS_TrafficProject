{
 "cells": [
  {
   "cell_type": "code",
   "execution_count": 1,
   "metadata": {},
   "outputs": [],
   "source": [
    "import numpy as np\n",
    "import random as rn\n",
    "\n",
    "from matplotlib import pyplot as plt\n",
    "from pprint import pprint as pp\n",
    "from math import floor"
   ]
  },
  {
   "cell_type": "code",
   "execution_count": 67,
   "metadata": {
    "code_folding": [
     54,
     81
    ]
   },
   "outputs": [],
   "source": [
    "### GA\n",
    "POPULATION_SIZE = 6\n",
    "CHROMESOME_SIZE = 4\n",
    "MUTATION_RATE = 0.01  # Usually between  0.001 and 0.01.\n",
    "CROSSOVER_RATE = 0.7\n",
    "EPOCHS = 200\n",
    "# PROMOTION_RATE = POPULATION_SIZE * 0.25\n",
    "# STANDARD_FITNESS = 0.01\n",
    "CHOICES_TEST = [0,1]\n",
    "\n",
    "class Chromosome:\n",
    "\n",
    "    def __init__(self, size, chromosome = []):\n",
    "        self.size = size\n",
    "        if len(chromosome) > 0:\n",
    "            self.chromosome = chromosome\n",
    "        else: \n",
    "            self.chromosome = self.random_binary_chromosome(size)\n",
    "\n",
    "    def fitness(self):\n",
    "        return self.fitness_test()\n",
    "    \n",
    "    def fitness_test(self):\n",
    "        a = self.chromosome\n",
    "        x = 8 * a[0] + 4 * a[1] + 2 * a[2] + 1 * a[3]\n",
    "        return  15*x - x**2\n",
    "    \n",
    "#     def fitness_test(self):\n",
    "#         a = self.chromosome\n",
    "#         x = 8 * a[0] + 4 * a[1] + 2 * a[2] + 1 * a[3]\n",
    "#         return  15*x - x**2\n",
    "\n",
    "    def crossover(self, other, x):\n",
    "        n1 = np.concatenate((self.chromosome[:x], other.chromosome[x:]))\n",
    "        n2 = np.concatenate((other.chromosome[:x], self.chromosome[x:]))\n",
    "        return Chromosome(self.size, n1), Chromosome(self.size, n2)\n",
    "\n",
    "    def mutate(self, i):\n",
    "        choices = CHOICES_TEST[:]\n",
    "        choices.remove(self.chromosome[i])\n",
    "        self.chromosome[i] = rn.choice(choices)\n",
    "        \n",
    "    def random_binary_chromosome(self, size):\n",
    "        return np.array([rn.choice(CHOICES_TEST) for i in range(size)])\n",
    "    \n",
    "class Genetic:\n",
    "    # 1 Initial population\n",
    "    def initial_population(self):\n",
    "        self.population = [Chromosome(CHROMESOME_SIZE) for i in range(POPULATION_SIZE)]\n",
    "\n",
    "    # 2 Fitness function\n",
    "\n",
    "\n",
    "    # 3 Selection\n",
    "    def selection(self):\n",
    "        total = 0\n",
    "        wheel= []\n",
    "        for chrom in self.population:\n",
    "            total += chrom.fitness()\n",
    "#             print('chromosome: ', chrom.chromosome)\n",
    "#             print('fitess: ', chrom.fitness()) \n",
    "            wheel.append(total)\n",
    "\n",
    "#         wheel = [total += chrom.fitness() for chrom in self.population]\n",
    "        assert total > 0, 'total is not > 0' \n",
    "        \n",
    "        candidates = []\n",
    "        for dc in range(len(self.population)):\n",
    "            prev = 0\n",
    "            r = rn.uniform(0, total)\n",
    "            for i in range(len(wheel)):\n",
    "                if prev <= r and r <= wheel[i]:\n",
    "                    candidates.append(self.population[i])\n",
    "                    break\n",
    "                prev = wheel[i]\n",
    "                \n",
    "#         print('selction')\n",
    "#         pp(len(self.population))\n",
    "#         pp(len(candidates))\n",
    "        return self.crossover_and_mutate(candidates)\n",
    "\n",
    "    def crossover_and_mutate(self, candidates):\n",
    "        # 4 Crossover\n",
    "        new_population = []\n",
    "        for i in range(floor(len(candidates)/2)):\n",
    "            if rn.random() < CROSSOVER_RATE:\n",
    "                x = rn.randint(1, CHROMESOME_SIZE - 1)\n",
    "                new_population.extend(candidates[2*i].crossover(candidates[2*i + 1], x))\n",
    "            else:\n",
    "                new_population.append(candidates[2*i])\n",
    "                new_population.append(candidates[2*i+1])\n",
    "\n",
    "        # 5 Mutation\n",
    "        total_genes = CHROMESOME_SIZE * POPULATION_SIZE\n",
    "        nr_of_mutations = int(round(total_genes * MUTATION_RATE))\n",
    "        for _ in range(nr_of_mutations):\n",
    "            r = rn.randint(0, total_genes - 1)\n",
    "            chrom_index = floor(r / CHROMESOME_SIZE)\n",
    "            gene_index = r % CHROMESOME_SIZE\n",
    "            a = new_population[chrom_index]\n",
    "            a.mutate(gene_index)\n",
    "        \n",
    "#         print('mating')\n",
    "#         pp(len(self.population))\n",
    "#         pp(len(new_population))\n",
    "        self.population = new_population\n",
    "        return new_population\n",
    "\n",
    "    def chromString(self, arr):\n",
    "        for i in arr:\n",
    "            print(i.toString())\n",
    "\n",
    "    def find_best(self):\n",
    "        best_fitness = 0\n",
    "        best_chrom = None\n",
    "        for chrom in self.population:\n",
    "            chrom_fitness = chrom.fitness() \n",
    "            if chrom_fitness > best_fitness:\n",
    "                best_fitness = chrom_fitness\n",
    "                best_chrom = chrom\n",
    "        return best_chrom\n",
    "    \n",
    "    def average_fitness(self, chromosomes):\n",
    "        return np.mean([i.fitness() for i in chromosomes])\n",
    "    \n",
    "    def approximate(self, epochs=32):\n",
    "#         evolution = [self.selection() for _ in range(epochs)]\n",
    "        evolution = []\n",
    "        counter = 0\n",
    "        for _ in range(epochs):\n",
    "            counter += 1\n",
    "            evolution.append(self.selection())\n",
    "            print('\\r Epoch: {}/{}'.format(counter, epochs), end='')\n",
    "        return self.find_best(), evolution"
   ]
  },
  {
   "cell_type": "code",
   "execution_count": 81,
   "metadata": {},
   "outputs": [
    {
     "name": "stdout",
     "output_type": "stream",
     "text": [
      "\r",
      " Epoch: 1/32\r",
      " Epoch: 2/32\r",
      " Epoch: 3/32\r",
      " Epoch: 4/32\r",
      " Epoch: 5/32\r",
      " Epoch: 6/32\r",
      " Epoch: 7/32\r",
      " Epoch: 8/32\r",
      " Epoch: 9/32\r",
      " Epoch: 10/32\r",
      " Epoch: 11/32\r",
      " Epoch: 12/32\r",
      " Epoch: 13/32\r",
      " Epoch: 14/32\r",
      " Epoch: 15/32\r",
      " Epoch: 16/32\r",
      " Epoch: 17/32\r",
      " Epoch: 18/32\r",
      " Epoch: 19/32\r",
      " Epoch: 20/32\r",
      " Epoch: 21/32\r",
      " Epoch: 22/32\r",
      " Epoch: 23/32\r",
      " Epoch: 24/32\r",
      " Epoch: 25/32\r",
      " Epoch: 26/32\r",
      " Epoch: 27/32\r",
      " Epoch: 28/32\r",
      " Epoch: 29/32\r",
      " Epoch: 30/32\r",
      " Epoch: 31/32\r",
      " Epoch: 32/32"
     ]
    },
    {
     "data": {
      "text/plain": [
       "Text(0,0.5,'population fitness')"
      ]
     },
     "execution_count": 81,
     "metadata": {},
     "output_type": "execute_result"
    },
    {
     "data": {
      "image/png": "[encoded data removed]",
      "text/plain": [
       "<Figure size 432x288 with 1 Axes>"
      ]
     },
     "metadata": {},
     "output_type": "display_data"
    }
   ],
   "source": [
    "# Plot mean fitness over epochs\n",
    "gen = Genetic()\n",
    "gen.initial_population()\n",
    "best, evo = gen.approximate()\n",
    "plt.plot([gen.average_fitness(pop) for pop in evo])\n",
    "plt.xlabel(s='generation')\n",
    "plt.ylabel(s='population fitness')"
   ]
  },
  {
   "cell_type": "code",
   "execution_count": 83,
   "metadata": {},
   "outputs": [
    {
     "data": {
      "text/plain": [
       "[0, 14, 26, 36, 44, 50, 54, 56, 56, 54, 50, 44, 36, 26, 14]"
      ]
     },
     "execution_count": 83,
     "metadata": {},
     "output_type": "execute_result"
    },
    {
     "data": {
      "image/png": "[encoded data removed]",
      "text/plain": [
       "<Figure size 432x288 with 1 Axes>"
      ]
     },
     "metadata": {},
     "output_type": "display_data"
    }
   ],
   "source": [
    "# Function that we are trying to optimize\n",
    "x = 3\n",
    "15*x - x**2\n",
    "l = [15*x - x**2 for x in range(15)]\n",
    "plt.plot(l)\n",
    "l"
   ]
  }
 ],
 "metadata": {
  "kernelspec": {
   "display_name": "Python 3",
   "language": "python",
   "name": "python3"
  },
  "language_info": {
   "codemirror_mode": {
    "name": "ipython",
    "version": 3
   },
   "file_extension": ".py",
   "mimetype": "text/x-python",
   "name": "python",
   "nbconvert_exporter": "python",
   "pygments_lexer": "ipython3",
   "version": "3.6.5"
  }
 },
 "nbformat": 4,
 "nbformat_minor": 2
}
