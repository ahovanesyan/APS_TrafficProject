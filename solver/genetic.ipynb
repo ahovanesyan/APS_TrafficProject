{
 "cells": [
  {
   "cell_type": "code",
   "execution_count": 1,
   "metadata": {},
   "outputs": [],
   "source": [
    "import numpy as np\n",
    "import random as rn\n",
    "\n",
    "\n",
    "from matplotlib import pyplot as plt\n",
    "from pprint import pprint as pp\n",
    "from math import floor"
   ]
  },
  {
   "cell_type": "code",
   "execution_count": 55,
   "metadata": {
    "code_folding": [
     10
    ]
   },
   "outputs": [],
   "source": [
    "### GA\n",
    "POPULATION_SIZE = 6\n",
    "CHROMESOME_SIZE = 4\n",
    "MUTATION_RATE = 0.001  # Usually between  0.001 and 0.01.\n",
    "CROSSOVER_RATE = 0.7\n",
    "EPOCHS = 200\n",
    "# PROMOTION_RATE = POPULATION_SIZE * 0.25\n",
    "# STANDARD_FITNESS = 0.01\n",
    "CHOICES_TEST = [0,1]\n",
    "\n",
    "class Chromosome:\n",
    "\n",
    "    def __init__(self, size, chromosome = []):\n",
    "        self.size = size\n",
    "        if len(chromosome) > 0:\n",
    "            self.chromosome = chromosome\n",
    "        else: \n",
    "            self.chromosome = self.random_binary_chromosome(size)\n",
    "\n",
    "    def fitness(self):\n",
    "        return self.fitness_test()\n",
    "    \n",
    "    def fitness_test(self):\n",
    "        a = self.chromosome\n",
    "        x = 8 * a[0] + 4 * a[1] + 2 * a[2] + 1 * a[3]\n",
    "        return  15*x - x**2\n",
    "    \n",
    "#     def fitness_test(self):\n",
    "#         a = self.chromosome\n",
    "#         x = 8 * a[0] + 4 * a[1] + 2 * a[2] + 1 * a[3]\n",
    "#         return  15*x - x**2\n",
    "\n",
    "    def crossover(self, other, x):\n",
    "        n1 = np.concatenate((self.chromosome[:x], other.chromosome[x:]))\n",
    "        n2 = np.concatenate((other.chromosome[:x], self.chromosome[x:]))\n",
    "        return Chromosome(self.size, n1), Chromosome(self.size, n2)\n",
    "\n",
    "    def mutate(self, i):\n",
    "        choices = CHOICES_TEST[:]\n",
    "        choices.remove(self.chromosome[i])\n",
    "        self.chromosome[i] = rn.choice(choices)\n",
    "        \n",
    "    def random_binary_chromosome(self, size):\n",
    "        return np.array([rn.choice(CHOICES_TEST) for i in range(size)])\n",
    "    \n",
    "class Genetic:\n",
    "    # 1 Initial population\n",
    "    def initial_population(self):\n",
    "        self.population = [Chromosome(CHROMESOME_SIZE) for i in range(POPULATION_SIZE)]\n",
    "\n",
    "    # 2 Fitness function\n",
    "\n",
    "\n",
    "    # 3 Selection\n",
    "    def selection(self):\n",
    "        total = 0\n",
    "        wheel= []\n",
    "        for chrom in self.population:\n",
    "            total += chrom.fitness()\n",
    "#             print('chromosome: ', chrom.chromosome)\n",
    "#             print('fitess: ', chrom.fitness()) \n",
    "            wheel.append(total)\n",
    "\n",
    "#         wheel = [total += chrom.fitness() for chrom in self.population]\n",
    "        assert total > 0, 'total is not > 0' \n",
    "#         pp(wheel)\n",
    "        \n",
    "        \n",
    "        candidates = []\n",
    "        for dc in range(len(self.population)):\n",
    "            prev = 0\n",
    "            r = rn.uniform(0, total)\n",
    "            for i in range(len(wheel)):\n",
    "                if prev <= r and r <= wheel[i]:\n",
    "                    candidates.append(self.population[i])\n",
    "                    break\n",
    "                prev = wheel[i]\n",
    "        return self.crossover_and_mutate(candidates)\n",
    "\n",
    "    def crossover_and_mutate(self, candidates):\n",
    "        # 4 Crossover\n",
    "        parents = []\n",
    "        new_population = []\n",
    "        for i in candidates:\n",
    "            if rn.random() < CROSSOVER_RATE:\n",
    "                parents.append(i)\n",
    "            else:\n",
    "                new_population.append(i)\n",
    "\n",
    "        n = len(parents)\n",
    "        for i in range(n):\n",
    "            x = rn.randint(1, CHROMESOME_SIZE - 1)\n",
    "            new_population.extend(parents[i].crossover(parents[i % n], x))\n",
    "            \n",
    "        # 5 Mutation\n",
    "        total_genes = CHROMESOME_SIZE * POPULATION_SIZE\n",
    "        nr_of_mutations = int(round(total_genes * MUTATION_RATE))\n",
    "        for _ in range(nr_of_mutations):\n",
    "            r = rn.randint(0, total_genes - 1)\n",
    "            chrom_index = floor(r / CHROMESOME_SIZE)\n",
    "            gene_index = r % CHROMESOME_SIZE\n",
    "            a = new_population[chrom_index]\n",
    "            a.mutate(gene_index)\n",
    "\n",
    "        self.population = new_population\n",
    "        return new_population\n",
    "\n",
    "    def chromString(self, arr):\n",
    "        for i in arr:\n",
    "            print(i.toString())\n",
    "\n",
    "    def find_best(self):\n",
    "        best_fitness = 0\n",
    "        best_chrom = None\n",
    "        for chrom in self.population:\n",
    "            chrom_fitness = chrom.fitness() \n",
    "            if chrom_fitness > best_fitness:\n",
    "                best_fitness = chrom_fitness\n",
    "                best_chrom = chrom\n",
    "        return best_chrom\n",
    "    \n",
    "    def approximate(self, epochs=32):\n",
    "#         evolution = [self.selection() for _ in range(epochs)]\n",
    "        evolution = []\n",
    "        counter = 0\n",
    "        for _ in range(epochs):\n",
    "            counter += 1\n",
    "            evolution.append(self.selection())\n",
    "            print('\\r Epoch: {}/{}'.format(counter, epochs), end='')\n",
    "        return self.find_best(), evolution"
   ]
  },
  {
   "cell_type": "code",
   "execution_count": 60,
   "metadata": {},
   "outputs": [
    {
     "name": "stdout",
     "output_type": "stream",
     "text": [
      "/r Epoch: 1/10/r Epoch: 2/10/r Epoch: 3/10/r Epoch: 4/10/r Epoch: 5/10/r Epoch: 6/10/r Epoch: 7/10/r Epoch: 8/10/r Epoch: 9/10/r Epoch: 10/10"
     ]
    },
    {
     "data": {
      "text/plain": [
       "50"
      ]
     },
     "execution_count": 60,
     "metadata": {},
     "output_type": "execute_result"
    }
   ],
   "source": [
    "# TODO: runtime per epoch exponentially increases, check out why\n",
    "# Plot mean fitness over epochs\n",
    "gen = Genetic()\n",
    "gen.initial_population()\n",
    "best, evo = gen.approximate(epochs=10)\n",
    "best.fitness()"
   ]
  },
  {
   "cell_type": "code",
   "execution_count": 6,
   "metadata": {},
   "outputs": [
    {
     "name": "stdout",
     "output_type": "stream",
     "text": [
      "array([0, 1, 0, 1])\n",
      "array([0, 0, 0, 0])\n",
      "array([1, 1, 1, 1])\n",
      "array([1, 0, 1, 0])\n",
      "array([0, 1, 1, 0])\n",
      "array([0, 0, 1, 1])\n",
      "chromosome:  [0 1 0 1]\n",
      "fitess:  50\n",
      "chromosome:  [0 0 0 0]\n",
      "fitess:  0\n",
      "chromosome:  [1 1 1 1]\n",
      "fitess:  0\n",
      "chromosome:  [1 0 1 0]\n",
      "fitess:  50\n",
      "chromosome:  [0 1 1 0]\n",
      "fitess:  54\n",
      "chromosome:  [0 0 1 1]\n",
      "fitess:  36\n",
      "[50, 50, 50, 100, 154, 190]\n"
     ]
    },
    {
     "ename": "AttributeError",
     "evalue": "'tuple' object has no attribute 'chromosome'",
     "output_type": "error",
     "traceback": [
      "\u001b[1;31m---------------------------------------------------------------------------\u001b[0m",
      "\u001b[1;31mAttributeError\u001b[0m                            Traceback (most recent call last)",
      "\u001b[1;32m<ipython-input-6-9a14cf446975>\u001b[0m in \u001b[0;36m<module>\u001b[1;34m()\u001b[0m\n\u001b[0;32m      4\u001b[0m     \u001b[0mpp\u001b[0m\u001b[1;33m(\u001b[0m\u001b[0mi\u001b[0m\u001b[1;33m.\u001b[0m\u001b[0mchromosome\u001b[0m\u001b[1;33m)\u001b[0m\u001b[1;33m\u001b[0m\u001b[0m\n\u001b[0;32m      5\u001b[0m \u001b[1;32mfor\u001b[0m \u001b[0mi\u001b[0m \u001b[1;32min\u001b[0m \u001b[0mgen\u001b[0m\u001b[1;33m.\u001b[0m\u001b[0mselection\u001b[0m\u001b[1;33m(\u001b[0m\u001b[1;33m)\u001b[0m\u001b[1;33m:\u001b[0m\u001b[1;33m\u001b[0m\u001b[0m\n\u001b[1;32m----> 6\u001b[1;33m     \u001b[0mpp\u001b[0m\u001b[1;33m(\u001b[0m\u001b[0mi\u001b[0m\u001b[1;33m.\u001b[0m\u001b[0mchromosome\u001b[0m\u001b[1;33m)\u001b[0m\u001b[1;33m\u001b[0m\u001b[0m\n\u001b[0m\u001b[0;32m      7\u001b[0m     \u001b[0mpp\u001b[0m\u001b[1;33m(\u001b[0m\u001b[0mi\u001b[0m\u001b[1;33m.\u001b[0m\u001b[0mfitness\u001b[0m\u001b[1;33m(\u001b[0m\u001b[1;33m)\u001b[0m\u001b[1;33m)\u001b[0m\u001b[1;33m\u001b[0m\u001b[0m\n\u001b[0;32m      8\u001b[0m \u001b[1;32mfor\u001b[0m \u001b[0mi\u001b[0m \u001b[1;32min\u001b[0m \u001b[0mgen\u001b[0m\u001b[1;33m.\u001b[0m\u001b[0mselection\u001b[0m\u001b[1;33m(\u001b[0m\u001b[1;33m)\u001b[0m\u001b[1;33m:\u001b[0m\u001b[1;33m\u001b[0m\u001b[0m\n",
      "\u001b[1;31mAttributeError\u001b[0m: 'tuple' object has no attribute 'chromosome'"
     ]
    }
   ],
   "source": [
    "gen = Genetic()\n",
    "gen.initial_population()\n",
    "for i in gen.population:\n",
    "    pp(i.chromosome)\n",
    "for i in gen.selection():\n",
    "    pp(i.chromosome)\n",
    "    pp(i.fitness())\n",
    "for i in gen.selection():\n",
    "    pp(sel)\n",
    "    pp(i.chromosome)\n",
    "    pp(i.fitness())\n",
    "# gen.selection()"
   ]
  },
  {
   "cell_type": "code",
   "execution_count": 26,
   "metadata": {},
   "outputs": [
    {
     "data": {
      "text/plain": [
       "[0, 14, 26, 36, 44, 50, 54, 56, 56, 54, 50, 44, 36, 26, 14]"
      ]
     },
     "execution_count": 26,
     "metadata": {},
     "output_type": "execute_result"
    },
    {
     "data": {
      "image/png": "[encoded data removed]",
      "text/plain": [
       "<Figure size 432x288 with 1 Axes>"
      ]
     },
     "metadata": {},
     "output_type": "display_data"
    }
   ],
   "source": [
    "x = 3\n",
    "15*x - x**2\n",
    "l = [15*x - x**2 for x in range(15)]\n",
    "plt.plot(l)\n",
    "l"
   ]
  },
  {
   "cell_type": "code",
   "execution_count": 94,
   "metadata": {},
   "outputs": [
    {
     "name": "stdout",
     "output_type": "stream",
     "text": [
      "array([1, 0, 0, 1])\n",
      "array([0, 1, 1, 1])\n",
      "array([1, 0, 1, 1])\n",
      "array([0, 1, 0, 1])\n"
     ]
    }
   ],
   "source": [
    "# testing example from book: page 224\n",
    "# optimize 15x - x^2\n",
    "\n",
    "ch1 = Chromosome(4)\n",
    "ch2 = Chromosome(4)\n",
    "pp(ch1.chromosome)\n",
    "pp(ch2.chromosome)\n",
    "c1,c2 = ch1.crossover(ch2, 2)\n",
    "pp(c1.chromosome)\n",
    "pp(c2.chromosome)"
   ]
  }
 ],
 "metadata": {
  "kernelspec": {
   "display_name": "Python 3",
   "language": "python",
   "name": "python3"
  },
  "language_info": {
   "codemirror_mode": {
    "name": "ipython",
    "version": 3
   },
   "file_extension": ".py",
   "mimetype": "text/x-python",
   "name": "python",
   "nbconvert_exporter": "python",
   "pygments_lexer": "ipython3",
   "version": "3.6.5"
  }
 },
 "nbformat": 4,
 "nbformat_minor": 2
}
